{
 "cells": [
  {
   "cell_type": "code",
   "execution_count": 1,
   "id": "da0521aa-dcf0-4660-bea7-30e6e6d5b5ed",
   "metadata": {},
   "outputs": [
    {
     "name": "stdout",
     "output_type": "stream",
     "text": [
      "TP3_1\n"
     ]
    }
   ],
   "source": [
    "print(\"TP3_1\")"
   ]
  },
  {
   "cell_type": "code",
   "execution_count": null,
   "id": "a06e3a1f-072c-4be5-b6a0-b5fe48e71fa5",
   "metadata": {},
   "outputs": [],
   "source": []
  }
 ],
 "metadata": {
  "kernelspec": {
   "display_name": "Python 3 (ipykernel)",
   "language": "python",
   "name": "python3"
  },
  "language_info": {
   "codemirror_mode": {
    "name": "ipython",
    "version": 3
   },
   "file_extension": ".py",
   "mimetype": "text/x-python",
   "name": "python",
   "nbconvert_exporter": "python",
   "pygments_lexer": "ipython3",
   "version": "3.12.4"
  }
 },
 "nbformat": 4,
 "nbformat_minor": 5
}
