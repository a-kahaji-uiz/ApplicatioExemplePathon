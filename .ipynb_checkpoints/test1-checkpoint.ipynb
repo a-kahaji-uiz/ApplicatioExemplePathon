{
 "cells": [
  {
   "cell_type": "code",
   "execution_count": 1,
   "id": "66805170-25b6-42e6-9dd8-a7516f9707b4",
   "metadata": {},
   "outputs": [
    {
     "name": "stdout",
     "output_type": "stream",
     "text": [
      "test1\n"
     ]
    }
   ],
   "source": [
    "print(\"test1\")"
   ]
  },
  {
   "cell_type": "code",
   "execution_count": null,
   "id": "7924db3d-738e-4991-8f95-7fa3e7f36d94",
   "metadata": {},
   "outputs": [],
   "source": []
  }
 ],
 "metadata": {
  "kernelspec": {
   "display_name": "Python 3 (ipykernel)",
   "language": "python",
   "name": "python3"
  },
  "language_info": {
   "codemirror_mode": {
    "name": "ipython",
    "version": 3
   },
   "file_extension": ".py",
   "mimetype": "text/x-python",
   "name": "python",
   "nbconvert_exporter": "python",
   "pygments_lexer": "ipython3",
   "version": "3.12.4"
  }
 },
 "nbformat": 4,
 "nbformat_minor": 5
}
